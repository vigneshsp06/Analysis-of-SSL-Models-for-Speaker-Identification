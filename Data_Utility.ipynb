{
 "cells": [
  {
   "cell_type": "code",
   "execution_count": 2,
   "id": "6df63543",
   "metadata": {},
   "outputs": [],
   "source": [
    "import os\n",
    "import pandas as pd\n",
    "import soundfile as sf\n",
    "from fnmatch import fnmatch"
   ]
  },
  {
   "cell_type": "code",
   "execution_count": 27,
   "id": "4587037b",
   "metadata": {},
   "outputs": [],
   "source": [
    "def make_csv(root,pattern):\n",
    "    csv_df = []\n",
    "    ids = os.listdir(root)\n",
    "    for idx in ids:\n",
    "        speaker_root = os.path.join(root, idx)\n",
    "        for path, subdirs, files in os.walk(speaker_root):\n",
    "            for name in files:\n",
    "                fullpath = os.path.join(path, name)\n",
    "                if fnmatch(name, pattern):\n",
    "                    csv_df.append(\n",
    "                        {\n",
    "                            'id':fullpath.split('.wav')[0].split('/')[-3]+'-'+fullpath.split('.wav')[0].split('/')[-2]+'-'+fullpath.split('.wav')[0].split('/')[-1],\n",
    "                            'speaker_id':idx,\n",
    "                            'path':fullpath,\n",
    "                            'audio':fullpath,\n",
    "                            'label':int(idx.split('id')[1])-10000\n",
    "                        }\n",
    "                    )\n",
    "    return pd.DataFrame(csv_df)"
   ]
  },
  {
   "cell_type": "code",
   "execution_count": 28,
   "id": "af3e408a",
   "metadata": {},
   "outputs": [],
   "source": [
    "train_root = '/media/oem/LENOVO_USB_HDD/6254_Project/data/voxceleb/dev/wav/'\n",
    "test_root = '/media/oem/LENOVO_USB_HDD/6254_Project/data/voxceleb/test/wav/'\n",
    "pattern = \"*.wav\"\n",
    "train_df = make_csv(train_root,pattern) \n",
    "train_df.to_csv('verification/train.csv',sep=',',index=False)\n",
    "test_df = make_csv(test_root,pattern)\n",
    "test_df.to_csv('verification/test.csv',sep=',',index=False)"
   ]
  },
  {
   "cell_type": "code",
   "execution_count": 81,
   "id": "692fefbf",
   "metadata": {},
   "outputs": [],
   "source": [
    "import pandas as pd\n",
    "train_df = pd.read_csv('verification/train.csv',sep=',')\n",
    "test_df = pd.read_csv('verification/test.csv',sep=',')"
   ]
  },
  {
   "cell_type": "code",
   "execution_count": 44,
   "id": "410a4bdc",
   "metadata": {},
   "outputs": [],
   "source": [
    "metadata_df = pd.concat((train_df,test_df))\n",
    "metadata_df.to_csv('identification/metadata.csv',sep=',',index=False)"
   ]
  },
  {
   "cell_type": "code",
   "execution_count": 71,
   "id": "78e46a74",
   "metadata": {},
   "outputs": [],
   "source": [
    "splits = pd.read_csv('splits.csv',sep=' ',header=None)\n",
    "splits.columns = ['split','path']\n",
    "splits['id'] = splits['path'].str.rstrip('.wav').str.replace('/', '-')\n",
    "splits = splits.drop(columns = 'path')\n",
    "splits.to_csv('identification/splits.csv',sep=',',index=False)"
   ]
  },
  {
   "cell_type": "code",
   "execution_count": 74,
   "id": "8db71b9c",
   "metadata": {},
   "outputs": [],
   "source": [
    "md_splits = pd.merge(metadata_df,splits, on='id', how='outer')\n",
    "md_splits.to_csv(\"identification/metadata_with_split.csv\",sep=',',index=False)"
   ]
  },
  {
   "cell_type": "code",
   "execution_count": 87,
   "id": "810ea998",
   "metadata": {},
   "outputs": [],
   "source": [
    "md = pd.read_csv(\"identification/metadata_with_split.csv\",sep=',')"
   ]
  },
  {
   "cell_type": "code",
   "execution_count": 91,
   "id": "dbec4189",
   "metadata": {},
   "outputs": [],
   "source": [
    "train = md.loc[md['split'] == 1]\n",
    "train = train.drop(columns = 'split')\n",
    "dev = md.loc[md['split'] == 2]\n",
    "dev = dev.drop(columns = 'split')\n",
    "test = md.loc[md['split'] == 3]\n",
    "test = test.drop(columns = 'split')\n",
    "train.to_csv('identification/train.csv',sep=',',index=None)\n",
    "dev.to_csv('identification/dev.csv',sep=',',index=None)\n",
    "test.to_csv('identification/test.csv',sep=',',index=None)"
   ]
  },
  {
   "cell_type": "code",
   "execution_count": null,
   "id": "2eb83192",
   "metadata": {},
   "outputs": [],
   "source": []
  }
 ],
 "metadata": {
  "kernelspec": {
   "display_name": "Python 3",
   "language": "python",
   "name": "python3"
  },
  "language_info": {
   "codemirror_mode": {
    "name": "ipython",
    "version": 3
   },
   "file_extension": ".py",
   "mimetype": "text/x-python",
   "name": "python",
   "nbconvert_exporter": "python",
   "pygments_lexer": "ipython3",
   "version": "3.8.8"
  }
 },
 "nbformat": 4,
 "nbformat_minor": 5
}
